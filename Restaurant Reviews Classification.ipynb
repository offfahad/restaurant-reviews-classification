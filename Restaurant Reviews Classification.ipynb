{
 "cells": [
  {
   "cell_type": "markdown",
   "id": "28d5ed2b",
   "metadata": {},
   "source": [
    "# Part1) Data Preprocessing"
   ]
  },
  {
   "cell_type": "code",
   "execution_count": 1,
   "id": "587fda97",
   "metadata": {},
   "outputs": [],
   "source": [
    "import numpy as np\n",
    "import pandas as pd\n",
    "import matplotlib.pyplot as plt\n",
    "import seaborn as sns"
   ]
  },
  {
   "cell_type": "code",
   "execution_count": 2,
   "id": "6427e3b1",
   "metadata": {},
   "outputs": [],
   "source": [
    "dataset = pd.read_csv('Restaurant_Reviews.tsv', delimiter='\\t', quoting=3)"
   ]
  },
  {
   "cell_type": "code",
   "execution_count": 3,
   "id": "ac178c08",
   "metadata": {},
   "outputs": [
    {
     "data": {
      "text/html": [
       "<div>\n",
       "<style scoped>\n",
       "    .dataframe tbody tr th:only-of-type {\n",
       "        vertical-align: middle;\n",
       "    }\n",
       "\n",
       "    .dataframe tbody tr th {\n",
       "        vertical-align: top;\n",
       "    }\n",
       "\n",
       "    .dataframe thead th {\n",
       "        text-align: right;\n",
       "    }\n",
       "</style>\n",
       "<table border=\"1\" class=\"dataframe\">\n",
       "  <thead>\n",
       "    <tr style=\"text-align: right;\">\n",
       "      <th></th>\n",
       "      <th>Review</th>\n",
       "      <th>Liked</th>\n",
       "    </tr>\n",
       "  </thead>\n",
       "  <tbody>\n",
       "    <tr>\n",
       "      <th>0</th>\n",
       "      <td>Wow... Loved this place.</td>\n",
       "      <td>1</td>\n",
       "    </tr>\n",
       "    <tr>\n",
       "      <th>1</th>\n",
       "      <td>Crust is not good.</td>\n",
       "      <td>0</td>\n",
       "    </tr>\n",
       "    <tr>\n",
       "      <th>2</th>\n",
       "      <td>Not tasty and the texture was just nasty.</td>\n",
       "      <td>0</td>\n",
       "    </tr>\n",
       "    <tr>\n",
       "      <th>3</th>\n",
       "      <td>Stopped by during the late May bank holiday of...</td>\n",
       "      <td>1</td>\n",
       "    </tr>\n",
       "    <tr>\n",
       "      <th>4</th>\n",
       "      <td>The selection on the menu was great and so wer...</td>\n",
       "      <td>1</td>\n",
       "    </tr>\n",
       "  </tbody>\n",
       "</table>\n",
       "</div>"
      ],
      "text/plain": [
       "                                              Review  Liked\n",
       "0                           Wow... Loved this place.      1\n",
       "1                                 Crust is not good.      0\n",
       "2          Not tasty and the texture was just nasty.      0\n",
       "3  Stopped by during the late May bank holiday of...      1\n",
       "4  The selection on the menu was great and so wer...      1"
      ]
     },
     "execution_count": 3,
     "metadata": {},
     "output_type": "execute_result"
    }
   ],
   "source": [
    "dataset.head()"
   ]
  },
  {
   "cell_type": "code",
   "execution_count": 4,
   "id": "67a941ec",
   "metadata": {},
   "outputs": [],
   "source": [
    "# Data Exploration"
   ]
  },
  {
   "cell_type": "code",
   "execution_count": 5,
   "id": "b47aab39",
   "metadata": {},
   "outputs": [
    {
     "data": {
      "text/plain": [
       "(1000, 2)"
      ]
     },
     "execution_count": 5,
     "metadata": {},
     "output_type": "execute_result"
    }
   ],
   "source": [
    "dataset.shape"
   ]
  },
  {
   "cell_type": "code",
   "execution_count": 6,
   "id": "a51fbe8f",
   "metadata": {},
   "outputs": [
    {
     "name": "stdout",
     "output_type": "stream",
     "text": [
      "<class 'pandas.core.frame.DataFrame'>\n",
      "RangeIndex: 1000 entries, 0 to 999\n",
      "Data columns (total 2 columns):\n",
      " #   Column  Non-Null Count  Dtype \n",
      "---  ------  --------------  ----- \n",
      " 0   Review  1000 non-null   object\n",
      " 1   Liked   1000 non-null   int64 \n",
      "dtypes: int64(1), object(1)\n",
      "memory usage: 15.8+ KB\n"
     ]
    }
   ],
   "source": [
    "dataset.info()"
   ]
  },
  {
   "cell_type": "code",
   "execution_count": 7,
   "id": "1cfb98fa",
   "metadata": {},
   "outputs": [
    {
     "data": {
      "text/plain": [
       "Index(['Review', 'Liked'], dtype='object')"
      ]
     },
     "execution_count": 7,
     "metadata": {},
     "output_type": "execute_result"
    }
   ],
   "source": [
    "dataset.columns"
   ]
  },
  {
   "cell_type": "code",
   "execution_count": 8,
   "id": "61795d5d",
   "metadata": {},
   "outputs": [
    {
     "data": {
      "text/html": [
       "<div>\n",
       "<style scoped>\n",
       "    .dataframe tbody tr th:only-of-type {\n",
       "        vertical-align: middle;\n",
       "    }\n",
       "\n",
       "    .dataframe tbody tr th {\n",
       "        vertical-align: top;\n",
       "    }\n",
       "\n",
       "    .dataframe thead th {\n",
       "        text-align: right;\n",
       "    }\n",
       "</style>\n",
       "<table border=\"1\" class=\"dataframe\">\n",
       "  <thead>\n",
       "    <tr style=\"text-align: right;\">\n",
       "      <th></th>\n",
       "      <th>Liked</th>\n",
       "    </tr>\n",
       "  </thead>\n",
       "  <tbody>\n",
       "    <tr>\n",
       "      <th>count</th>\n",
       "      <td>1000.00000</td>\n",
       "    </tr>\n",
       "    <tr>\n",
       "      <th>mean</th>\n",
       "      <td>0.50000</td>\n",
       "    </tr>\n",
       "    <tr>\n",
       "      <th>std</th>\n",
       "      <td>0.50025</td>\n",
       "    </tr>\n",
       "    <tr>\n",
       "      <th>min</th>\n",
       "      <td>0.00000</td>\n",
       "    </tr>\n",
       "    <tr>\n",
       "      <th>25%</th>\n",
       "      <td>0.00000</td>\n",
       "    </tr>\n",
       "    <tr>\n",
       "      <th>50%</th>\n",
       "      <td>0.50000</td>\n",
       "    </tr>\n",
       "    <tr>\n",
       "      <th>75%</th>\n",
       "      <td>1.00000</td>\n",
       "    </tr>\n",
       "    <tr>\n",
       "      <th>max</th>\n",
       "      <td>1.00000</td>\n",
       "    </tr>\n",
       "  </tbody>\n",
       "</table>\n",
       "</div>"
      ],
      "text/plain": [
       "            Liked\n",
       "count  1000.00000\n",
       "mean      0.50000\n",
       "std       0.50025\n",
       "min       0.00000\n",
       "25%       0.00000\n",
       "50%       0.50000\n",
       "75%       1.00000\n",
       "max       1.00000"
      ]
     },
     "execution_count": 8,
     "metadata": {},
     "output_type": "execute_result"
    }
   ],
   "source": [
    "dataset.describe()"
   ]
  },
  {
   "cell_type": "code",
   "execution_count": 9,
   "id": "40ff04a1",
   "metadata": {},
   "outputs": [],
   "source": [
    "# Dealing with missing values"
   ]
  },
  {
   "cell_type": "code",
   "execution_count": 10,
   "id": "dace4b00",
   "metadata": {},
   "outputs": [
    {
     "data": {
      "text/plain": [
       "False"
      ]
     },
     "execution_count": 10,
     "metadata": {},
     "output_type": "execute_result"
    }
   ],
   "source": [
    "dataset.isnull().values.any()"
   ]
  },
  {
   "cell_type": "code",
   "execution_count": 11,
   "id": "fcfcb97f",
   "metadata": {},
   "outputs": [],
   "source": [
    "# Countplot"
   ]
  },
  {
   "cell_type": "code",
   "execution_count": 12,
   "id": "0871da15",
   "metadata": {},
   "outputs": [
    {
     "name": "stderr",
     "output_type": "stream",
     "text": [
      "C:\\Users\\PMLS\\anaconda3\\lib\\site-packages\\seaborn\\_decorators.py:36: FutureWarning: Pass the following variable as a keyword arg: x. From version 0.12, the only valid positional argument will be `data`, and passing other arguments without an explicit keyword will result in an error or misinterpretation.\n",
      "  warnings.warn(\n"
     ]
    },
    {
     "data": {
      "text/plain": [
       "<AxesSubplot:xlabel='Liked', ylabel='count'>"
      ]
     },
     "execution_count": 12,
     "metadata": {},
     "output_type": "execute_result"
    },
    {
     "data": {
      "image/png": "[encoded data removed]",
      "text/plain": [
       "<Figure size 640x480 with 1 Axes>"
      ]
     },
     "metadata": {},
     "output_type": "display_data"
    }
   ],
   "source": [
    "sns.countplot(dataset['Liked'])"
   ]
  },
  {
   "cell_type": "code",
   "execution_count": 13,
   "id": "7731163d",
   "metadata": {},
   "outputs": [
    {
     "data": {
      "text/plain": [
       "500"
      ]
     },
     "execution_count": 13,
     "metadata": {},
     "output_type": "execute_result"
    }
   ],
   "source": [
    "#Positive Reviews\n",
    "(dataset.Liked == 1).sum()"
   ]
  },
  {
   "cell_type": "code",
   "execution_count": 14,
   "id": "e6eaf163",
   "metadata": {},
   "outputs": [
    {
     "data": {
      "text/plain": [
       "500"
      ]
     },
     "execution_count": 14,
     "metadata": {},
     "output_type": "execute_result"
    }
   ],
   "source": [
    "#Negative Reviews\n",
    "(dataset.Liked == 0).sum()"
   ]
  },
  {
   "cell_type": "code",
   "execution_count": 15,
   "id": "d4c20e6f",
   "metadata": {},
   "outputs": [],
   "source": [
    "# Lenght of messages"
   ]
  },
  {
   "cell_type": "code",
   "execution_count": 16,
   "id": "c689b243",
   "metadata": {},
   "outputs": [
    {
     "data": {
      "text/html": [
       "<div>\n",
       "<style scoped>\n",
       "    .dataframe tbody tr th:only-of-type {\n",
       "        vertical-align: middle;\n",
       "    }\n",
       "\n",
       "    .dataframe tbody tr th {\n",
       "        vertical-align: top;\n",
       "    }\n",
       "\n",
       "    .dataframe thead th {\n",
       "        text-align: right;\n",
       "    }\n",
       "</style>\n",
       "<table border=\"1\" class=\"dataframe\">\n",
       "  <thead>\n",
       "    <tr style=\"text-align: right;\">\n",
       "      <th></th>\n",
       "      <th>Review</th>\n",
       "      <th>Liked</th>\n",
       "    </tr>\n",
       "  </thead>\n",
       "  <tbody>\n",
       "    <tr>\n",
       "      <th>0</th>\n",
       "      <td>Wow... Loved this place.</td>\n",
       "      <td>1</td>\n",
       "    </tr>\n",
       "    <tr>\n",
       "      <th>1</th>\n",
       "      <td>Crust is not good.</td>\n",
       "      <td>0</td>\n",
       "    </tr>\n",
       "    <tr>\n",
       "      <th>2</th>\n",
       "      <td>Not tasty and the texture was just nasty.</td>\n",
       "      <td>0</td>\n",
       "    </tr>\n",
       "    <tr>\n",
       "      <th>3</th>\n",
       "      <td>Stopped by during the late May bank holiday of...</td>\n",
       "      <td>1</td>\n",
       "    </tr>\n",
       "    <tr>\n",
       "      <th>4</th>\n",
       "      <td>The selection on the menu was great and so wer...</td>\n",
       "      <td>1</td>\n",
       "    </tr>\n",
       "  </tbody>\n",
       "</table>\n",
       "</div>"
      ],
      "text/plain": [
       "                                              Review  Liked\n",
       "0                           Wow... Loved this place.      1\n",
       "1                                 Crust is not good.      0\n",
       "2          Not tasty and the texture was just nasty.      0\n",
       "3  Stopped by during the late May bank holiday of...      1\n",
       "4  The selection on the menu was great and so wer...      1"
      ]
     },
     "execution_count": 16,
     "metadata": {},
     "output_type": "execute_result"
    }
   ],
   "source": [
    "dataset.head()"
   ]
  },
  {
   "cell_type": "code",
   "execution_count": 17,
   "id": "bc237d11",
   "metadata": {},
   "outputs": [],
   "source": [
    "dataset['Length'] = dataset['Review'].apply(len)"
   ]
  },
  {
   "cell_type": "code",
   "execution_count": 18,
   "id": "1d8ff423",
   "metadata": {},
   "outputs": [
    {
     "data": {
      "text/html": [
       "<div>\n",
       "<style scoped>\n",
       "    .dataframe tbody tr th:only-of-type {\n",
       "        vertical-align: middle;\n",
       "    }\n",
       "\n",
       "    .dataframe tbody tr th {\n",
       "        vertical-align: top;\n",
       "    }\n",
       "\n",
       "    .dataframe thead th {\n",
       "        text-align: right;\n",
       "    }\n",
       "</style>\n",
       "<table border=\"1\" class=\"dataframe\">\n",
       "  <thead>\n",
       "    <tr style=\"text-align: right;\">\n",
       "      <th></th>\n",
       "      <th>Review</th>\n",
       "      <th>Liked</th>\n",
       "      <th>Length</th>\n",
       "    </tr>\n",
       "  </thead>\n",
       "  <tbody>\n",
       "    <tr>\n",
       "      <th>0</th>\n",
       "      <td>Wow... Loved this place.</td>\n",
       "      <td>1</td>\n",
       "      <td>24</td>\n",
       "    </tr>\n",
       "    <tr>\n",
       "      <th>1</th>\n",
       "      <td>Crust is not good.</td>\n",
       "      <td>0</td>\n",
       "      <td>18</td>\n",
       "    </tr>\n",
       "    <tr>\n",
       "      <th>2</th>\n",
       "      <td>Not tasty and the texture was just nasty.</td>\n",
       "      <td>0</td>\n",
       "      <td>41</td>\n",
       "    </tr>\n",
       "    <tr>\n",
       "      <th>3</th>\n",
       "      <td>Stopped by during the late May bank holiday of...</td>\n",
       "      <td>1</td>\n",
       "      <td>87</td>\n",
       "    </tr>\n",
       "    <tr>\n",
       "      <th>4</th>\n",
       "      <td>The selection on the menu was great and so wer...</td>\n",
       "      <td>1</td>\n",
       "      <td>59</td>\n",
       "    </tr>\n",
       "  </tbody>\n",
       "</table>\n",
       "</div>"
      ],
      "text/plain": [
       "                                              Review  Liked  Length\n",
       "0                           Wow... Loved this place.      1      24\n",
       "1                                 Crust is not good.      0      18\n",
       "2          Not tasty and the texture was just nasty.      0      41\n",
       "3  Stopped by during the late May bank holiday of...      1      87\n",
       "4  The selection on the menu was great and so wer...      1      59"
      ]
     },
     "execution_count": 18,
     "metadata": {},
     "output_type": "execute_result"
    }
   ],
   "source": [
    "dataset.head()"
   ]
  },
  {
   "cell_type": "code",
   "execution_count": 19,
   "id": "7c6df051",
   "metadata": {},
   "outputs": [
    {
     "data": {
      "text/plain": [
       "<AxesSubplot:ylabel='Frequency'>"
      ]
     },
     "execution_count": 19,
     "metadata": {},
     "output_type": "execute_result"
    },
    {
     "data": {
      "image/png": "[encoded data removed]",
      "text/plain": [
       "<Figure size 640x480 with 1 Axes>"
      ]
     },
     "metadata": {},
     "output_type": "display_data"
    }
   ],
   "source": [
    "# Histogram\n",
    "\n",
    "dataset['Length'].plot(bins=100, kind='hist')"
   ]
  },
  {
   "cell_type": "code",
   "execution_count": 20,
   "id": "c06b7f79",
   "metadata": {},
   "outputs": [
    {
     "data": {
      "text/plain": [
       "count    1000.000000\n",
       "mean       58.315000\n",
       "std        32.360052\n",
       "min        11.000000\n",
       "25%        33.000000\n",
       "50%        51.000000\n",
       "75%        80.000000\n",
       "max       149.000000\n",
       "Name: Length, dtype: float64"
      ]
     },
     "execution_count": 20,
     "metadata": {},
     "output_type": "execute_result"
    }
   ],
   "source": [
    "dataset.Length.describe()"
   ]
  },
  {
   "cell_type": "code",
   "execution_count": 22,
   "id": "e29047ff",
   "metadata": {},
   "outputs": [
    {
     "data": {
      "text/plain": [
       "'The problem I have is that they charge $11.99 for a sandwich that is no bigger than a Subway sub (which offers better and more amount of vegetables).'"
      ]
     },
     "execution_count": 22,
     "metadata": {},
     "output_type": "execute_result"
    }
   ],
   "source": [
    "# Longest Massage\n",
    "dataset[dataset[\"Length\"] == 149]['Review'].iloc[0]"
   ]
  },
  {
   "cell_type": "code",
   "execution_count": 23,
   "id": "c4fb235d",
   "metadata": {},
   "outputs": [
    {
     "data": {
      "text/plain": [
       "'DELICIOUS!!'"
      ]
     },
     "execution_count": 23,
     "metadata": {},
     "output_type": "execute_result"
    }
   ],
   "source": [
    "# Shortest Massage\n",
    "dataset[dataset[\"Length\"] == 11]['Review'].iloc[0]"
   ]
  },
  {
   "cell_type": "code",
   "execution_count": 29,
   "id": "6abd5c83",
   "metadata": {},
   "outputs": [],
   "source": [
    "positive = dataset[dataset['Liked'] == 1]"
   ]
  },
  {
   "cell_type": "code",
   "execution_count": 30,
   "id": "e7a1f8cb",
   "metadata": {},
   "outputs": [],
   "source": [
    "negative = dataset[dataset['Liked'] == 0]"
   ]
  },
  {
   "cell_type": "code",
   "execution_count": 31,
   "id": "79f31ffc",
   "metadata": {},
   "outputs": [
    {
     "data": {
      "text/html": [
       "<div>\n",
       "<style scoped>\n",
       "    .dataframe tbody tr th:only-of-type {\n",
       "        vertical-align: middle;\n",
       "    }\n",
       "\n",
       "    .dataframe tbody tr th {\n",
       "        vertical-align: top;\n",
       "    }\n",
       "\n",
       "    .dataframe thead th {\n",
       "        text-align: right;\n",
       "    }\n",
       "</style>\n",
       "<table border=\"1\" class=\"dataframe\">\n",
       "  <thead>\n",
       "    <tr style=\"text-align: right;\">\n",
       "      <th></th>\n",
       "      <th>Review</th>\n",
       "      <th>Liked</th>\n",
       "      <th>Length</th>\n",
       "    </tr>\n",
       "  </thead>\n",
       "  <tbody>\n",
       "    <tr>\n",
       "      <th>0</th>\n",
       "      <td>Wow... Loved this place.</td>\n",
       "      <td>1</td>\n",
       "      <td>24</td>\n",
       "    </tr>\n",
       "    <tr>\n",
       "      <th>3</th>\n",
       "      <td>Stopped by during the late May bank holiday of...</td>\n",
       "      <td>1</td>\n",
       "      <td>87</td>\n",
       "    </tr>\n",
       "    <tr>\n",
       "      <th>4</th>\n",
       "      <td>The selection on the menu was great and so wer...</td>\n",
       "      <td>1</td>\n",
       "      <td>59</td>\n",
       "    </tr>\n",
       "    <tr>\n",
       "      <th>8</th>\n",
       "      <td>The fries were great too.</td>\n",
       "      <td>1</td>\n",
       "      <td>25</td>\n",
       "    </tr>\n",
       "    <tr>\n",
       "      <th>9</th>\n",
       "      <td>A great touch.</td>\n",
       "      <td>1</td>\n",
       "      <td>14</td>\n",
       "    </tr>\n",
       "    <tr>\n",
       "      <th>...</th>\n",
       "      <td>...</td>\n",
       "      <td>...</td>\n",
       "      <td>...</td>\n",
       "    </tr>\n",
       "    <tr>\n",
       "      <th>899</th>\n",
       "      <td>Overall, a great experience.</td>\n",
       "      <td>1</td>\n",
       "      <td>28</td>\n",
       "    </tr>\n",
       "    <tr>\n",
       "      <th>901</th>\n",
       "      <td>Their regular toasted bread was equally satisf...</td>\n",
       "      <td>1</td>\n",
       "      <td>97</td>\n",
       "    </tr>\n",
       "    <tr>\n",
       "      <th>907</th>\n",
       "      <td>The chips and sals a here is amazing!!!!!!!!!!...</td>\n",
       "      <td>1</td>\n",
       "      <td>55</td>\n",
       "    </tr>\n",
       "    <tr>\n",
       "      <th>909</th>\n",
       "      <td>This is my new fav Vegas buffet spot.</td>\n",
       "      <td>1</td>\n",
       "      <td>37</td>\n",
       "    </tr>\n",
       "    <tr>\n",
       "      <th>922</th>\n",
       "      <td>Every time I eat here, I see caring teamwork t...</td>\n",
       "      <td>1</td>\n",
       "      <td>70</td>\n",
       "    </tr>\n",
       "  </tbody>\n",
       "</table>\n",
       "<p>500 rows × 3 columns</p>\n",
       "</div>"
      ],
      "text/plain": [
       "                                                Review  Liked  Length\n",
       "0                             Wow... Loved this place.      1      24\n",
       "3    Stopped by during the late May bank holiday of...      1      87\n",
       "4    The selection on the menu was great and so wer...      1      59\n",
       "8                            The fries were great too.      1      25\n",
       "9                                       A great touch.      1      14\n",
       "..                                                 ...    ...     ...\n",
       "899                       Overall, a great experience.      1      28\n",
       "901  Their regular toasted bread was equally satisf...      1      97\n",
       "907  The chips and sals a here is amazing!!!!!!!!!!...      1      55\n",
       "909              This is my new fav Vegas buffet spot.      1      37\n",
       "922  Every time I eat here, I see caring teamwork t...      1      70\n",
       "\n",
       "[500 rows x 3 columns]"
      ]
     },
     "execution_count": 31,
     "metadata": {},
     "output_type": "execute_result"
    }
   ],
   "source": [
    "positive"
   ]
  },
  {
   "cell_type": "code",
   "execution_count": 32,
   "id": "786cb455",
   "metadata": {},
   "outputs": [
    {
     "data": {
      "text/html": [
       "<div>\n",
       "<style scoped>\n",
       "    .dataframe tbody tr th:only-of-type {\n",
       "        vertical-align: middle;\n",
       "    }\n",
       "\n",
       "    .dataframe tbody tr th {\n",
       "        vertical-align: top;\n",
       "    }\n",
       "\n",
       "    .dataframe thead th {\n",
       "        text-align: right;\n",
       "    }\n",
       "</style>\n",
       "<table border=\"1\" class=\"dataframe\">\n",
       "  <thead>\n",
       "    <tr style=\"text-align: right;\">\n",
       "      <th></th>\n",
       "      <th>Review</th>\n",
       "      <th>Liked</th>\n",
       "      <th>Length</th>\n",
       "    </tr>\n",
       "  </thead>\n",
       "  <tbody>\n",
       "    <tr>\n",
       "      <th>1</th>\n",
       "      <td>Crust is not good.</td>\n",
       "      <td>0</td>\n",
       "      <td>18</td>\n",
       "    </tr>\n",
       "    <tr>\n",
       "      <th>2</th>\n",
       "      <td>Not tasty and the texture was just nasty.</td>\n",
       "      <td>0</td>\n",
       "      <td>41</td>\n",
       "    </tr>\n",
       "    <tr>\n",
       "      <th>5</th>\n",
       "      <td>Now I am getting angry and I want my damn pho.</td>\n",
       "      <td>0</td>\n",
       "      <td>46</td>\n",
       "    </tr>\n",
       "    <tr>\n",
       "      <th>6</th>\n",
       "      <td>Honeslty it didn't taste THAT fresh.)</td>\n",
       "      <td>0</td>\n",
       "      <td>37</td>\n",
       "    </tr>\n",
       "    <tr>\n",
       "      <th>7</th>\n",
       "      <td>The potatoes were like rubber and you could te...</td>\n",
       "      <td>0</td>\n",
       "      <td>111</td>\n",
       "    </tr>\n",
       "    <tr>\n",
       "      <th>...</th>\n",
       "      <td>...</td>\n",
       "      <td>...</td>\n",
       "      <td>...</td>\n",
       "    </tr>\n",
       "    <tr>\n",
       "      <th>995</th>\n",
       "      <td>I think food should have flavor and texture an...</td>\n",
       "      <td>0</td>\n",
       "      <td>66</td>\n",
       "    </tr>\n",
       "    <tr>\n",
       "      <th>996</th>\n",
       "      <td>Appetite instantly gone.</td>\n",
       "      <td>0</td>\n",
       "      <td>24</td>\n",
       "    </tr>\n",
       "    <tr>\n",
       "      <th>997</th>\n",
       "      <td>Overall I was not impressed and would not go b...</td>\n",
       "      <td>0</td>\n",
       "      <td>50</td>\n",
       "    </tr>\n",
       "    <tr>\n",
       "      <th>998</th>\n",
       "      <td>The whole experience was underwhelming, and I ...</td>\n",
       "      <td>0</td>\n",
       "      <td>91</td>\n",
       "    </tr>\n",
       "    <tr>\n",
       "      <th>999</th>\n",
       "      <td>Then, as if I hadn't wasted enough of my life ...</td>\n",
       "      <td>0</td>\n",
       "      <td>134</td>\n",
       "    </tr>\n",
       "  </tbody>\n",
       "</table>\n",
       "<p>500 rows × 3 columns</p>\n",
       "</div>"
      ],
      "text/plain": [
       "                                                Review  Liked  Length\n",
       "1                                   Crust is not good.      0      18\n",
       "2            Not tasty and the texture was just nasty.      0      41\n",
       "5       Now I am getting angry and I want my damn pho.      0      46\n",
       "6                Honeslty it didn't taste THAT fresh.)      0      37\n",
       "7    The potatoes were like rubber and you could te...      0     111\n",
       "..                                                 ...    ...     ...\n",
       "995  I think food should have flavor and texture an...      0      66\n",
       "996                           Appetite instantly gone.      0      24\n",
       "997  Overall I was not impressed and would not go b...      0      50\n",
       "998  The whole experience was underwhelming, and I ...      0      91\n",
       "999  Then, as if I hadn't wasted enough of my life ...      0     134\n",
       "\n",
       "[500 rows x 3 columns]"
      ]
     },
     "execution_count": 32,
     "metadata": {},
     "output_type": "execute_result"
    }
   ],
   "source": [
    "negative"
   ]
  },
  {
   "cell_type": "code",
   "execution_count": 33,
   "id": "db028cb3",
   "metadata": {},
   "outputs": [],
   "source": [
    "# Cleaning the text"
   ]
  },
  {
   "cell_type": "code",
   "execution_count": 34,
   "id": "dd9f813e",
   "metadata": {},
   "outputs": [
    {
     "name": "stderr",
     "output_type": "stream",
     "text": [
      "[nltk_data] Downloading package stopwords to\n",
      "[nltk_data]     C:\\Users\\PMLS\\AppData\\Roaming\\nltk_data...\n",
      "[nltk_data]   Unzipping corpora\\stopwords.zip.\n"
     ]
    }
   ],
   "source": [
    "import re\n",
    "import nltk\n",
    "nltk.download('stopwords')\n",
    "from nltk.corpus import stopwords\n",
    "from nltk.stem.porter import PorterStemmer"
   ]
  },
  {
   "cell_type": "code",
   "execution_count": 36,
   "id": "b0bc0a85",
   "metadata": {},
   "outputs": [],
   "source": [
    "corpus = []\n",
    "\n",
    "for i in range(0,1000):\n",
    "    review = re.sub('[^a-zA-Z]', '', dataset['Review'][i])\n",
    "    review = review.lower()\n",
    "    review = review.split()\n",
    "    \n",
    "    ps = PorterStemmer()\n",
    "    all_stopwords = stopwords.words('english')\n",
    "    all_stopwords.remove('not')\n",
    "    review = [ps.stem(word) for word in review if not word in set(all_stopwords)] #single row for loop\n",
    "    review = ' '.join(review)\n",
    "    corpus.append(review)"
   ]
  },
  {
   "cell_type": "code",
   "execution_count": 37,
   "id": "ec8394d9",
   "metadata": {},
   "outputs": [
    {
     "name": "stdout",
     "output_type": "stream",
     "text": [
      "['wowlovedthisplac', 'crustisnotgood', 'nottastyandthetexturewasjustnasti', 'stoppedbyduringthelatemaybankholidayoffricksteverecommendationandlovedit', 'theselectiononthemenuwasgreatandsowerethepric', 'nowiamgettingangryandiwantmydamnpho', 'honesltyitdidnttastethatfresh', 'thepotatoeswerelikerubberandyoucouldtelltheyhadbeenmadeupaheadoftimebeingkeptunderawarm', 'thefriesweregreattoo', 'agreattouch', 'servicewasveryprompt', 'wouldnotgoback', 'thecashierhadnocarewhatsoeveronwhatihadtosayitstillendedupbeingwayyyoverpr', 'itriedthecapecodravolichickenwithcranberrymmmm', 'iwasdisgustedbecauseiwasprettysurethatwashumanhair', 'iwasshockedbecausenosignsindicatecashonli', 'highlyrecommend', 'waitresswasalittleslowinservic', 'thisplaceisnotworthyourtimeletalonevega', 'didnotlikeatal', 'theburrittosblah', 'thefoodamaz', 'serviceisalsocut', 'icouldcarelesstheinteriorisjustbeauti', 'sotheyperform', 'thatsrighttheredvelvetcakeohhhthisstuffissogood', 'theyneverbroughtasaladweaskedfor', 'thisholeinthewallhasgreatmexicanstreettacosandfriendlystaff', 'tookanhourtogetourfoodonlytablesinrestaurantmyfoodwaslukewarmourseverwasrunningaroundlikehewastotallyoverwhelm', 'theworstwasthesalmonsashimi', 'alsotherearecomboslikeaburgerfriesandbeerforwhichisadecentd', 'thiswaslikethefinalblow', 'ifoundthisplacebyaccidentandicouldnotbehappi', 'seemslikeagoodquickplacetogrababiteofsomefamiliarpubfoodbutdoyourselfafavorandlookelsewher', 'overallilikethisplacealot', 'theonlyredeemingqualityoftherestaurantwasthatitwasveryinexpens', 'ampleportionsandgoodpric', 'poorservicethewaitermademefeellikeiwasstupideverytimehecametothet', 'myfirstvisittohirowasadelight', 'servicesuck', 'theshrimptenderandmoist', 'thereisnotadealgoodenoughthatwoulddragmeintothatestablishmentagain', 'hardtojudgewhetherthesesidesweregoodbecauseweweregrossedoutbythemeltedstyrofoamanddidntwanttoeatitforfearofgettingsick', 'onapositivenoteourserverwasveryattentiveandprovidedgreatservic', 'frozenpucksofdisgustwithsomeoftheworstpeoplebehindtheregist', 'theonlythingididlikewastheprimeribanddessertsect', 'itstoobadthefoodissodamngener', 'theburgerisgoodbeefcookedjustright', 'ifyouwantasandwichjustgotoanyfirehous', 'mysidegreeksaladwiththegreekdressingwassotastyandthepitaandhummuswasveryrefresh', 'weorderedtheduckrareanditwaspinkandtenderontheinsidewithanicecharontheoutsid', 'hecamerunningafteruswhenherealizedmyhusbandhadlefthissunglassesonthet', 'theirchowmeinissogood', 'theyhavehorribleattitudestowardscustomersandtalkdowntoeachonewhencustomersdontenjoytheirfood', 'theportionwashug', 'loveditfriendlyserversgreatfoodwonderfulandimaginativemenu', 'theheartattackgrillindowntownvegasisanabsolutelyflatlinedexcuseforarestaur', 'notmuchseafoodandlikestringsofpastaatthebottom', 'thesaladhadjusttherightamountofsaucetonotoverpowerthescallopwhichwasperfectlycook', 'therippedbananawasnotonlyrippedbutpetrifiedandtasteless', 'atleastthinktorefillmywaterbeforeistruggletowaveyouoverforminut', 'thisplacereceivesstarsfortheirappet', 'thecocktailsareallhandmadeanddelici', 'weddefinitelygobackhereagain', 'wearesogladwefoundthisplac', 'greatfoodandservicehugeportionsandtheygiveamilitarydiscount', 'alwaysagreattimeatdosgringo', 'updatewentbackforasecondtimeanditwasstilljustasamaz', 'wegotthefoodandapparentlytheyhaveneverheardofsaltandthebatteronthefishwaschewi', 'agreatwaytofinishagreat', 'thedealincludedtastingsanddrinksandjeffwentaboveandbeyondwhatweexpect', 'reallyreallygoodriceallthetim', 'theservicewasmeh', 'ittookovermintogettheirmilkshakewhichwasnothingmorethanchocolatemilk', 'iguessishouldhaveknownthatthisplacewouldsuckbecauseitisinsideoftheexcaliburbutididntusemycommonsens', 'thescallopdishisquiteappallingforvalueaswel', 'timesverybadcustomerservic', 'thesweetpotatofrieswereverygoodandseasonedwel', 'todayisthesecondtimeivebeentotheirlunchbuffetanditwasprettygood', 'thereissomuchgoodfoodinvegasthatifeelcheatedforwastinganeatingopportunitybygoingtoriceandcompani', 'cominghereislikeexperiencinganunderwhelmingrelationshipwherebothpartiescantwaitfortheotherpersontoasktobreakup', 'walkedinandtheplacesmelledlikeanoldgreasetrapandonlyothersthere', 'theturkeyandroastbeefwerebland', 'thisplacehasit', 'thepancakeseveryoneareravingabouttastelikeasugarydisastertailoredtothepalateofasixyearold', 'ilovethephoandthespringrollsohsoyummyyouhavetotri', 'thepoorbattertomeatratiomadethechickentendersveryunsatisfi', 'allihavetosayisthefoodwasamaz', 'omeletsaretodiefor', 'everythingwasfreshanddelici', 'insummarythiswasalargelydisappointingdiningexperi', 'itslikeareallysexypartyinyourmouthwhereyoureoutrageouslyflirtingwiththehottestpersonattheparti', 'neverbeentohardrockcasinobeforewillnevereverstepforwardinitagain', 'bestbreakfastbuffet', 'saybyebyetoyourtipladi', 'wellnevergoagain', 'willbebackagain', 'foodarrivedquickli', 'itwasnotgood', 'ontheupsidetheircafeservesreallygoodfood', 'ourserverwasfantasticandwhenhefoundoutthewifelovesroastedgarlicandbonemarrowheaddedextratoourmealandanothermarrowtogo', 'theonlygoodthingwasourwaiterhewasveryhelpfulandkeptthebloddymaryscom', 'bestbuffetintownforthepriceyoucannotbeatit', 'ilovedtheirmusselscookedinthiswinereductiontheduckwastenderandtheirpotatodishesweredelici', 'thisisoneofthebetterbuffetsthatihavebeento', 'sowewenttotigerlillyandhadafantasticafternoon', 'thefoodwasdeliciousourbartenderwasattentiveandpersonableandwegotagreatd', 'theambienceiswonderfulandthereismusicplay', 'willgobacknexttripout', 'sooooogood', 'realsushiloversletsbehonestyamaisnotthatgood', 'atleastminpassedinbetweenusorderingandthefoodarrivinganditwasntthatbusi', 'thisisareallyfantasticthairestaurantwhichisdefinitelyworthavisit', 'nicespicyandtend', 'goodpric', 'checkitout', 'itwasprettygross', 'ivehadbetteratmospher', 'kindofhardtomessupasteakbuttheydid', 'althoughiverymuchlikedthelookandsoundofthisplacetheactualexperiencewasabitdisappoint', 'ijustdontknowhowthisplacemanagedtoservedtheblandestfoodihaveevereatenwhentheyarepreparingindiancuisin', 'worstservicetobootbutthatistheleastoftheirworri', 'servicewasfineandthewaitresswasfriendli', 'theguysallhadsteaksandoursteaklovingsonwhohashadsteakatthebestandworstplacessaiditwasthebeststeakhesevereaten', 'wethoughtyoudhavetoventurefurtherawaytogetgoodsushibutthisplacereallyhitthespotthatnight', 'hoststaffwereforlackofabetterwordbitch', 'blandnotalikingthisplaceforanumberofreasonsandidontwanttowastetimeonbadreviewingillleaveitatthat', 'phenomenalfoodserviceandambi', 'iwouldntreturn', 'definitelyworthventuringoffthestripfortheporkbellywillreturnnexttimeiminvega', 'thisplaceiswaytoooverpricedformediocrefood', 'pennevodkaexcel', 'theyhaveagoodselectionoffoodincludingamassivemeatloafsandwichacrispychickenwrapadelishtunameltandsometastyburg', 'themanagementisrud', 'deliciousnycbagelsgoodselectionsofcreamcheeserealloxwithcaperseven', 'greatsubwayinfactitssogoodwhenyoucomehereeveryothersubwaywillnotmeetyourexpect', 'ihadaseriouslysolidbreakfasther', 'thisisoneofthebestbarswithfoodinvega', 'hewasextremelyrudeandreallytherearesomanyotherrestaurantsiwouldlovetodineatduringaweekendinvega', 'mydrinkwasneveremptyandhemadesomereallygreatmenusuggest', 'dontdoit', 'thewaiterwasnthelpfulorfriendlyandrarelycheckedonu', 'myhusbandandiatelunchhereandwereverydisappointedwiththefoodandservic', 'andtheredcurryhadsomuchbambooshootsandwasntverytastytom', 'niceblanketofmozovertopbutifeellikethiswasdonetocoverupthesubparfood', 'thebathroomsarecleanandtheplaceitselfiswelldecor', 'themenuisalwayschangingfoodqualityisgoingdownserviceisextremelyslow', 'theservicewasalittleslowconsideringthatwereservedbypeopleserverssothefoodwascominginaslowpac', 'igiveitthumbsdown', 'wewatchedourwaiterpayalotmoreattentiontoothertablesandignoreu', 'myfiancandicameinthemiddleofthedayandweweregreetedandseatedrightaway', 'thisisagreatrestaurantatthemandalaybay', 'wewaitedforfortyfiveminutesinvain', 'crostinithatcamewiththesaladwasstal', 'somehighlightsgreatqualitynigiriher', 'thestaffisfriendlyandthejointisalwaysclean', 'thiswasadifferentcutthanthepiecetheotherdaybutstillwonderfulandtenderswellaswellflavor', 'iorderedthevoodoopastaanditwasthefirsttimeidhadreallyexcellentpastasincegoingglutenfreeseveralyearsago', 'thisplaceisgood', 'unfortunatelywemusthavehitthebakeryonleftoverdaybecauseeverythingweorderedwasstal', 'icamebacktodaysincetheyrelocatedandstillnotimpress', 'iwasseatedimmedi', 'theirmenuisdiverseandreasonablypr', 'avoidatallcost', 'restaurantisalwaysfullbutneverawait', 'delici', 'thisplaceishandsdownoneofthebestplacestoeatinthephoenixmetroarea', 'sodontgothereifyouarelookingforgoodfood', 'iveneverbeentreatedsobad', 'baconishellasalti', 'wealsoorderedthespinachandavocadosaladtheingredientsweresadandthedressingliterallyhadzerotast', 'thisreallyishowvegasfinediningusedtoberightdowntothemenushandedtotheladiesthathavenopriceslist', 'thewaitressesareveryfriendli', 'lordythekhaosoiisadishthatisnottobemissedforcurrylov', 'everythingonthemenuisterrificandwewerealsothrilledthattheymadeamazingaccommodationsforourvegetariandaught', 'perhapsicaughtthemonanoffnightjudgingbytheotherreviewsbutimnotinspiredtogoback', 'theservicehereleavesalottobedesir', 'theatmosphereismodernandhipwhilemaintainingatouchofcozi', 'notaweeklyhauntbutdefinitelyaplacetocomebacktoeveryonceinawhil', 'weliterallysatthereforminuteswithnooneaskingtotakeourord', 'theburgerhadabsolutelynoflavorthemeatitselfwastotallyblandtheburgerwasovercookedandtherewasnocharcoalflavor', 'ialsodecidednottosenditbackbecauseourwaitresslookedlikeshewasonthevergeofhavingaheartattack', 'idresseduptobetreatedsorud', 'itwasprobablydirt', 'lovethisplacehitsthespotwheniwantsomethinghealthybutnotlackinginquantityorflavor', 'iorderedthelemonraspberryicecocktailwhichwasalsoincred', 'thefoodsuckedwhichweexpectedbutitsuckedmorethanwecouldhaveimagin', 'interestingdecor', 'whatireallylikethereisthecrepest', 'alsowereservedhotbreadandbutterandhomemadepotatochipswithbaconbitsontopveryoriginalandverygood', 'youcanwatchthempreparingthedeliciousfood', 'bothoftheeggrollswerefantast', 'whenmyorderarrivedoneofthegyroswasmiss', 'ihadasaladwiththewingsandsomeicecreamfordessertandleftfeelingquitesatisfi', 'imnotreallysurehowjoeyswasvotedbesthotdoginthevalleybyreadersofphoenixmagazin', 'thebestplacetogoforatastybowlofpho', 'thelivemusiconfridaystotallyblow', 'iveneverbeenmoreinsultedorfeltdisrespect', 'veryfriendlystaff', 'itisworththedr', 'ihadheardgoodthingsaboutthisplacebutitexceedingeveryhopeicouldhavedreamedof', 'foodwasgreatandsowastheserivc', 'thewarmbeerdidnthelp', 'greatbrunchspot', 'serviceisfriendlyandinvit', 'verygoodlunchspot', 'ivelivedheresinceandthiswasthefirstandlasttimeivesteppedfootintothisplac', 'theworstexperienceev', 'musthavebeenanoffnightatthisplac', 'thesidesaredelishmixedmushroomsyukongoldpureewhitecornbeat', 'ifthatbugnevershowedupiwouldhavegivenaforsurebutontheothersideofthewallwherethisbugwasclimbingwasthekitchen', 'foraboutminuteswewerewaitingforhersaladwhenwerealizedthatitwasntcominganytimesoon', 'myfriendlovedthesalmontartar', 'wontgoback', 'extremelytasti', 'waitresswasgoodthough', 'soggyandnotgood', 'thejamaicanmojitosaredelici', 'whicharesmallandnotworththepric', 'thefoodisrichsoorderaccordingli', 'theshowerareaisoutsidesoyoucanonlyrinsenottakeafullshowerunlessyoudontmindbeingnudeforeveryonetose', 'theservicewasabitlack', 'lobsterbisquebussellsproutsrisottofiletallneededsaltandpepperandofcoursethereisnoneatthet', 'hopefullythisbodesforthemgoingoutofbusinessandsomeonewhocancookcancomein', 'itwaseithertoocoldnotenoughflavororjustbad', 'ilovedthebaconwrappedd', 'thisisanunbelievablebargain', 'thefolksatottoalwaysmakeusfeelsowelcomeandspeci', 'asforthemainsalsouninspir', 'thisistheplacewhereifirsthadphoanditwasamaz', 'thiswonderfulexperiencemadethisplaceamuststopwheneverweareintownagain', 'ifthefoodisntbadenoughforyouthenenjoydealingwiththeworldsworstannoyingdrunkpeopl', 'veryveryfunchef', 'orderedadoublecheeseburgergotasinglepattythatwasfallingapartpictureuploadedyeahstillsuck', 'greatplacetohaveacoupledrinksandwatchanyandallsportingeventsasthewallsarecoveredwithtv', 'ifitwerepossibletogivethemzerostarstheydhaveit', 'thedescriptionssaidyumyumsauceandanothersaideelsauceyetanothersaidspicymayowellnoneoftherollshadsaucesonthem', 'idsaythatwouldbethehardestdecisionhonestlyallofmsdishestastehowtheyaresupposedtotasteamaz', 'ifshehadnotrolledtheeyeswemayhavestayednotsureifwewillgobackandtryitagain', 'everyoneisveryattentiveprovidingexcellentcustomerservic', 'horribledontwasteyourtimeandmoney', 'nowthisdishwasquiteflavour', 'bythistimeoursideoftherestaurantwasalmostemptysotherewasnoexcus', 'itwasntbusyeitheralsothebuildingwasfreezingcold', 'liketheotherreviewersaidyoucouldntpaymetoeatatthisplaceagain', 'drinkstookclosetominutestocomeoutatonepoint', 'seriouslyflavorfuldelightsfolk', 'muchbetterthantheotheraycesushiplaceiwenttoinvega', 'thelightingisjustdarkenoughtosetthemood', 'basedonthesubparserviceireceivedandnoefforttoshowtheirgratitudeformybusinessiwontbegoingback', 'ownersarereallygreatpeopl', 'thereisnothingprivilegedaboutworkingeatingther', 'thegreekdressingwasverycreamyandflavor', 'overallidontthinkthatiwouldtakemyparentstothisplaceagainbecausetheymademostofthesimilarcomplaintsthatisilentlyfelttoo', 'nowthepizzaitselfwasgoodthepeanutsaucewasverytasti', 'wehadatourtableandtheservicewasprettyfast', 'fantasticserviceher', 'iaswellwouldvegivengodfatherszerostarsifposs', 'theyknowhowtomakethemher', 'verytoughandveryshortonflavor', 'ihopethisplacesticksaround', 'ihavebeeninmorethanafewbarsinvegasanddonoteverrecallbeingchargedfortapwat', 'therestaurantatmospherewasexquisit', 'goodserviceverycleanandinexpensivetoboot', 'theseafoodwasfreshandgenerousinport', 'plusitsonlybuck', 'theservicewasnotuptopareith', 'thusfarhaveonlyvisitedtwiceandthefoodwasabsolutelydeliciouseachtim', 'justasgoodaswhenihaditmorethanayearago', 'foraselfproclaimedcoffeecafeiwaswildlydisappoint', 'theveggitarianplatterisoutofthisworld', 'youcantgowrongwithanyofthefoodher', 'youcantbeatthat', 'stoppedbythisplacewhileinmadisonfortheironmanveryfriendlykindstaff', 'thechefswerefriendlyanddidagoodjob', 'ivehadbetternotonlyfromdedicatedbobateaspotsbutevenfromjennipho', 'ilikedthepatioandtheservicewasoutstand', 'thegoattacodidntskimponthemeatandwowwhatflavor', 'ithinknotagain', 'ihadthemacsaladanditwasprettyblandsoiwillnotbegettingthatagain', 'iwenttobachiburgeronafriendsrecommendationandwasnotdisappoint', 'servicestinksher', 'iwaitedandwait', 'thisplaceisnotqualitysushiitisnotaqualityrestaur', 'iwoulddefinitelyrecommendthewingsaswellasthepizza', 'greatpizzaandsalad', 'thingsthatwentwrongtheyburnedthesaganaki', 'wewaitedanhourforwhatwasabreakfasticouldhavedonetimesbetterathom', 'thisplaceisamaz', 'ihatetodisagreewithmyfellowyelpersbutmyhusbandandiweresodisappointedwiththisplac', 'waitedhoursnevergoteitherofourpizzasasmanyotherarounduswhocameinlaterdid', 'justdontknowwhytheyweresoslow', 'thestaffisgreatthefoodisdelishandtheyhaveanincrediblebeerselect', 'iliveintheneighborhoodsoiamdisappointediwontbebackherebecauseitisaconvenientloc', 'ididntknowpulledporkcouldbesoooodelici', 'yougetincrediblyfreshfishpreparedwithcar', 'beforeigointowhyigaveastarratingpleaseknowthatthiswasmythirdtimeeatingatbachiburgerbeforewritingareview', 'ilovethefactthateverythingontheirmenuisworthit', 'neveragainwillibediningatthisplac', 'thefoodwasexcellentandservicewasverygood', 'goodbeerdrinkselectionandgoodfoodselect', 'pleasestayawayfromtheshrimpstirfriednoodl', 'thepotatochiporderwassadicouldprobablycounthowmanychipswereinthatboxanditwasprobablyaround', 'foodwasreallybor', 'goodservicecheck', 'thisgreedycorporationwillneverseeanotherdimefromm', 'willneverevergoback', 'asmuchasidliketogobackicantgetpassedtheatrociousserviceandwillneverreturn', 'inthesummeryoucandineinacharmingoutdoorpatiosoverydelight', 'ididnotexpectthistobesogood', 'fantasticfood', 'sheorderedatoastedenglishmuffinthatcameoutuntoast', 'thefoodwasverygood', 'nevergoingback', 'greatfoodforthepricewhichisveryhighqualityandhousemad', 'thebusboyontheotherhandwassorud', 'bythispointmyfriendsandihadbasicallyfiguredoutthisplacewasajokeanddidntmindmakingitpubliclyandloudlyknown', 'backtogoodbbqlighterfarereasonablepricingandtellthepublictheyarebacktotheoldway', 'andconsideringthetwoofusleftthereveryfullandhappyforaboutyoujustcantgowrong', 'allthebreadismadeinhous', 'theonlydownsideistheservic', 'alsothefriesarewithoutadoubttheworstfriesiveeverhad', 'servicewasexceptionalandfoodwasagoodasallthereview', 'acoupleofmonthslaterireturnedandhadanamazingm', 'favoriteplaceintownforshawarrrrrrma', 'theblackeyedpeasandsweetpotatoesunr', 'youwontbedisappoint', 'theycouldserveitwithjustthevinaigretteanditmaymakeforabetteroveralldishbutitwasstillverygood', 'igotofartoomanyplacesandiveneverseenanyrestaurantthatservesaeggbreakfastespeciallyfor', 'whenmymomandigothomesheimmediatelygotsickandsheonlyhadafewbitesofsalad', 'theserversarenotpleasanttodealwithandtheydontalwayshonorpizzahutcoupon', 'bothofthemweretrulyunbelievablygoodandiamsogladwewentback', 'wehadfantasticserviceandwerepleasedbytheatmospher', 'everythingwasgross', 'ilovethisplac', 'greatserviceandfood', 'firstthebathroomsatthislocationweredirtyseatcoverswerenotreplenishedjustplainyucki', 'theburgerigotthegoldstandardaburgerandwaskindofdisappoint', 'omgthefoodwasdelicioso', 'thereisnothingauthenticaboutthisplac', 'thespaghettiisnothingspecialwhatsoev', 'ofallthedishesthesalmonwasthebestbutallweregreat', 'thevegetablesaresofreshandthesaucefeelslikeauthenticthai', 'itsworthdrivingupfromtucson', 'theselectionwasprobablytheworstiveseeninvegastherewasnon', 'prettygoodbeerselectiontoo', 'thisplaceislikechipotlebutbett', 'classywarmatmospherefunandfreshappetizerssucculentsteaksbaseballsteak', 'starsforthebrickovenbreadapp', 'ihaveeatenheremultipletimesandeachtimethefoodwasdelici', 'wesatanothertenminutesandfinallygaveupandleft', 'hewasterr', 'everyoneistreatedequallyspeci', 'itshouldnttakeminforpancakesandegg', 'itwasdelici', 'onthegoodsidethestaffwasgenuinelypleasantandenthusiasticarealtreat', 'sadlygordonramseyssteakisaplaceweshallsharplyavoidduringournexttriptovega', 'asalwaystheeveningwaswonderfulandthefooddelici', 'bestfishiveeverhadinmylif', 'thebathroomisjustnextdoorandverynic', 'thebuffetissmallandallthefoodtheyofferedwasbland', 'thisisanoutstandinglittlerestaurantwithsomeofthebestfoodihaveevertast', 'prettycooliwouldsay', 'definitelyaturnoffformeidoubtillbebackunlesssomeoneelseisbuy', 'serverdidagreatjobhandlingourlargerowdyt', 'ifindwastingfoodtobedespicablebutthisjustwasntfood', 'mywifehadthelobsterbisquesoupwhichwaslukewarm', 'wouldcomebackagainifihadasushicravingwhileinvega', 'thestaffaregreattheambianceisgreat', 'hedeservesstar', 'ileftwithastomachacheandfeltsicktherestoftheday', 'theydroppedmorethanthebal', 'thediningspaceistinybutelegantlydecoratedandcomfort', 'theywillcustomizeyourorderanywayyoudlikemyusualiseggplantwithgreenbeanstirfryloveit', 'andthebeansandriceweremediocreatbest', 'besttacosintownbyfar', 'itookbackmymoneyandgotouttather', 'inaninterestingpartoftownthisplaceisamaz', 'rudeinconsideratemanag', 'thestaffarenownotasfriendlythewaittimesforbeingservedarehorriblenooneevensayshiforthefirstminut', 'iwontbeback', 'theyhavegreatdinn', 'theservicewasoutshiningidefinitelyrecommendthehalibut', 'thefoodwasterr', 'willneverevergobackandhavetoldmanypeoplewhathadhappen', 'idontrecommendunlessyourcarbreaksdowninfrontofitandyouarestarv', 'iwillcomebackhereeverytimeiminvega', 'thisplacedeservesonestarandhastodowiththefood', 'thisisadisgrac', 'defcomingbacktobowlnexttim', 'ifyouwanthealthyauthenticorethicfoodtrythisplac', 'iwillcontinuetocomehereonladiesnightandddddatenighthighlyrecommendthisplacetoanyonewhoisinthearea', 'ihavebeenhereseveraltimesinthepastandtheexperiencehasalwaysbeengreat', 'wewalkedawaystuffedandhappyaboutourfirstvegasbuffetexperi', 'servicewasexcellentandpricesareprettyreasonableconsideringthisisvegasandlocatedinsidethecrystalsshoppingmallbyaria', 'tosummarizethefoodwasincrediblenaytranscendantbutnothingbringsmejoyquitelikethememoryofthepneumaticcondimentdispens', 'improbablyoneofthefewpeopletoevergotoiansandnotlikeit', 'kidspizzaisalwaysahittoowithlotsofgreatsidedishoptionsforthekiddo', 'serviceisperfectandthefamilyatmosphereisnicetose', 'cookedtoperfectionandtheservicewasimpecc', 'thisoneissimplyadisappoint', 'overalliwasverydisappointedwiththequalityoffoodatbouchon', 'idonthavetobeanaccountanttoknowimgettingscrew', 'greatplacetoeatremindsmeofthelittlemomandpopshopsinthesanfranciscobayarea', 'todaywasmyfirsttasteofabuldogisgourmethotdogandihavetotellyouitwasmorethanieverthoughtposs', 'leftveryfrustr', 'illdefinitelybeinsoonagain', 'foodwasreallygoodandigotfullpettyfast', 'servicewasfantast', 'totalwasteoftim', 'idontknowwhatkinditisbuttheyhavethebesticedtea', 'comehungryleavehappyandstuf', 'forserviceigivethemnostar', 'icanassureyouthatyouwontbedisappoint', 'icantakealittlebadservicebutthefoodsuck', 'gaveuptryingtoeatanyofthecrustteethstillsor', 'butnowiwascompletelygrossedout', 'ireallyenjoyedeatingher', 'firsttimegoingbutithinkiwillquicklybecomearegular', 'ourserverwasveryniceandeventhoughhelookedalittleoverwhelmedwithallofourneedshestayedprofessionalandfriendlyuntiltheend', 'fromwhatmydinnercompanionstoldmeeverythingwasveryfreshwithnicetextureandtast', 'onthegroundrightnexttoourtablewasalargesmearedbeensteppedinandtrackedeverywherepileofgreenbirdpoop', 'furthermoreyoucantevenfindhoursofoperationonthewebsit', 'wevetriedtolikethisplacebutaftertimesithinkweredonewiththem', 'whatamistakethatwa', 'nocomplaint', 'thisissomeseriouslygoodpizzaandimanexpertconnisseuronthetop', 'waiterwasajerk', 'strikewhowantstoberush', 'thesearethenicestrestaurantownersiveevercomeacross', 'inevercomeagain', 'welovedthebiscuit', 'serviceisquickandfriendli', 'orderedanappetizerandtookminutesandthenthepizzaanotherminut', 'soabsolutleyfantast', 'itwasahugeawkwardlbpieceofcowthatwasthsgristleandfat', 'definitelywillcomebackhereagain', 'ilikesteinersbecauseitsdarkanditfeelslikeabar', 'wowveryspicybutdelici', 'ifyourenotfamiliarcheckitout', 'illtakemybusinessdinnerdollarselsewher', 'idlovetogoback', 'anywaythisfsrestauranthasawonderfulbreakfastlunch', 'nothingspeci', 'eachdayoftheweektheyhaveadifferentdealanditsallsodelici', 'nottomentionthecombinationofpearsalmondsandbaconisabigwinn', 'willnotbeback', 'saucewastasteless', 'thefoodisdeliciousandjustspicyenoughsobesuretoaskforspicierifyoupreferitthatway', 'myribeyesteakwascookedperfectlyandhadgreatmesquiteflavor', 'idontthinkwellbegoingbackanytimesoon', 'foodwassogooodd', 'iamfarfromasushiconnoisseurbuticandefinitelytellthedifferencebetweengoodfoodandbadfoodandthiswascertainlybadfood', 'iwassoinsult', 'thelasttimesihadlunchherehasbeenbad', 'thechickenwingscontainedthedriestchickenmeatihaveevereaten', 'thefoodwasverygoodandienjoyedeverymouthfulanenjoyablerelaxedvenueforcouplessmallfamilygroupsetc', 'nargileithinkyouaregreat', 'besttatertotsinthesouthwest', 'welovedtheplac', 'definitelynotworththeipaid', 'thevanillaicecreamwascreamyandsmoothwhiletheprofiterolechouxpastrywasfreshenough', 'iminazallthetimeandnowhavemynewspot', 'themanagerwastheworst', 'theinsideisreallyquiteniceandveryclean', 'thefoodwasoutstandingandthepriceswereveryreason', 'idontthinkillberunningbacktocarlysanytimesoonforfood', 'thisiswasduetothefactthatittookminutestobeacknowledgedthenanotherminutestogetourfoodandtheykeptforgettingth', 'lovethemargaritastoo', 'thiswasmyfirstandonlyvegasbuffetanditdidnotdisappoint', 'verygoodthough', 'theonedownnoteistheventilationcouldusesomeupgrad', 'greatporksandwich', 'dontwasteyourtimeher', 'totalletdowniwouldmuchratherjustgotothecamelbackflowershopandcartelcoffe', 'thirdthecheeseonmyfriendsburgerwascold', 'weenjoytheirpizzaandbrunch', 'thesteaksareallwelltrimmedandalsoperfectlycook', 'wehadagroupofwhenweclaimedwewouldonlyhaveandtheyhandledusbeauti', 'ilovedit', 'weaskedforthebilltoleavewithouteatingandtheydidntbringthateith', 'thisplaceisajewelinlasvegasandexactlywhativebeenhopingtofindinnearlytenyearslivingher', 'seafoodwaslimitedtoboiledshrimpandcrablegsbutthecrablegsdefinitelydidnottastefresh', 'theselectionoffoodwasnotthebest', 'deliciousandiwillabsolutelybeback', 'thisisntasmallfamilyrestaurantthisisafinediningestablish', 'theyhadatorotartarewithacavierthatwasextraordinaryandilikedthethinlyslicedwagyuwithwhitetruffl', 'idontthinkiwillbebackforaverylongtim', 'itwasattachedtoagasstationandthatisrarelyagoodsign', 'howawesomeisthat', 'iwillbebackmanytimessoon', 'themenuhadsomuchgoodstuffoniticouldnotdecid', 'worseofallhehumiliatedhisworkerrightinfrontofmebunchofhorriblenamecal', 'conclusionveryfillingm', 'theirdailyspecialsarealwaysahitwithmygroup', 'andthentragedystruck', 'thepancakewasalsoreallygoodandprettylargeatthat', 'thiswasmyfirstcrawfishexperienceanditwasdelici', 'theirmonsterchickenfriedsteakandeggsismyalltimefavorit', 'waitresswassweetandfunni', 'ialsohadtotastemymomsmultigrainpumpkinpancakeswithpecanbutterandtheywereamazingfluffyanddelici', 'idrathereatairlinefoodseri', 'cantsayenoughgoodthingsaboutthisplac', 'theambiancewasincred', 'thewaitressandmanageraresofriendli', 'iwouldnotrecommendthisplac', 'overalliwasntveryimpressedwithnoca', 'mygyrowasbasicallylettuceonli', 'terribleservic', 'thoroughlydisappoint', 'idonteachmuchpastabutilovethehomemadehandmadepastasandthinpizzasher', 'giveitatryyouwillbehappyyoudid', 'byfarthebestcheesecurdswehaveeverhad', 'reasonablypricedalso', 'everythingwasperfectthenightwewerein', 'thefoodisverygoodforyourtypicalbarfood', 'itwasadrivetogetther', 'atfirstglanceitisalovelybakerycafeniceambiancecleanfriendlystaff', 'anywayidonotthinkiwillgobackther', 'pointyourfingeratanyitemonthemenuorderitandyouwontbedisappoint', 'ohthisissuchathingofbeautythisrestaur', 'ifyouhaventgoneheregonow', 'agreasyunhealthym', 'firsttimethereandmightjustbethelast', 'thoseburgerswereamaz', 'similarlythedeliverymandidnotsayawordofapologywhenourfoodwasminutesl', 'anditwaswaytoexpens', 'besuretoorderdessertevenifyouneedtopackittogothetiramisuandcannoliarebothtodiefor', 'thiswasmyfirsttimeandicantwaituntilthenext', 'thebartenderwasalsonic', 'everythingwasgoodandtasti', 'thisplaceistwothumbsupwayup', 'thebestplaceinvegasforbreakfastjustcheckoutasatorsun', 'ifyouloveauthenticmexicanfoodandwantawholebunchofinterestingyetdeliciousmeatstochoosefromyouneedtotrythisplac', 'terriblemanag', 'anexcellentnewrestaurantbyanexperiencedfrenchman', 'iftherewerezerostarsiwouldgiveitzerostar', 'greatsteakgreatsidesgreatwineamazingdessert', 'worstmartiniev', 'thesteakandtheshrimpareinmyopinionthebestentreesatgc', 'ihadtheopportunitytodaytosampleyouramazingpizza', 'wewaitedforthirtyminutestobeseatedalthoughtherewerevacanttablesandweweretheonlyfolkswait', 'theyellowtailcarpacciowasmeltinyourmouthfresh', 'iwonttrygoingbackthereevenifitsempti', 'noimgoingtoeatthepotatothatifoundsomestrangershairinit', 'justspicyenoughperfectactu', 'lastnightwasmysecondtimedininghereandiwassohappyidecidedtogoback', 'notevenahellowewillberightwithy', 'thedessertswereabitstrang', 'myboyfriendandicamehereforthefirsttimeonarecenttriptovegasandcouldnothavebeenmorepleasedwiththequalityoffoodandservic', 'ireallydorecommendthisplaceyoucangowrongwiththisdonutplac', 'niceambi', 'iwouldrecommendsavingroomforthi', 'iguessmaybewewentonanoffnightbutitwasdisgrac', 'howevermyrecentexperienceatthisparticularlocationwasnotsogood', 'iknowthisisnotliketheotherrestaurantsatallsomethingisveryoffher', 'avoidthisestablish', 'ithinkthisrestaurantsuffersfromnottryinghardenough', 'allofthetapasdishesweredelici', 'iheartthisplac', 'mysaladhadablandvinegretteonthebabygreensandheartsofpalm', 'aftertwoifeltdisgust', 'agoodtim', 'ibelievethatthisplaceisagreatstopforthosewithahugebellyandhankeringforsushi', 'generousportionsandgreattast', 'iwillnevergobacktothisplaceandwillnevereverrecommendedthisplacetoanyon', 'theserverswentbackandforthseveraltimesnotevensomuchasanareyoubeinghelp', 'foodwasdelici', 'anhourseri', 'iconsiderthistheft', 'eewthislocationneedsacompleteoverhaul', 'werecentlywitnessedherpoorqualityofmanagementtowardsotherguestsaswel', 'waitedandwaitedandwait', 'healsocamebacktocheckonusregularlyexcellentservic', 'ourserverwassuperniceandcheckedonusmanytim', 'thepizzatastedoldsuperchewyinnotagoodway', 'iswungintogivethematrybutwasdeeplydisappoint', 'servicewasgoodandthecompanywasbett', 'thestaffarealsoveryfriendlyandeffici', 'asfortheserviceimafanbecauseitsquickandyourebeingservedbysomenicefolk', 'boywasthatsuckerdri', 'overr', 'ifyoulookforauthenticthaifoodgoelsewher', 'theirsteaksarerecommend', 'afteripulledupmycariwaitedforanotherminutesbeforebeingacknowledg', 'greatfoodandgreatserviceinacleanandfriendlyset', 'allinallicanassureyouillbeback', 'ihatethosethingsasmuchascheapqualityblackol', 'mybreakfastwasperparedgreatwithabeautifulpresentationofgiantslicesoftoastlightlydustedwithpowderedsugar', 'thekidsplayareaisnasti', 'greatplacefotakeoutoreatin', 'thewaitresswasfriendlyandhappytoaccomodateforveganveggieopt', 'omgifeltlikeihadnevereatenthaifooduntilthisdish', 'itwasextremelycrumbyandprettytasteless', 'itwasapalecolorinsteadofniceandcharandhasnoflavor', 'thecroutonsalsotastehomemadewhichisanextraplu', 'igothometoseethedriestdamnwingsev', 'itllbearegularstoponmytripstophoenix', 'ireallyenjoyedcremacafbeforetheyexpandedieventoldfriendstheyhadthebestbreakfast', 'notgoodforthemoney', 'imissitandwishtheyhadoneinphiladelphia', 'wegotsittingfairlyfastbutendedupwaitingminutesjusttoplaceourorderanotherminutesbeforethefoodarriv', 'theyalsohavethebestcheesecrispintown', 'goodvaluegreatfoodgreatservic', 'couldntaskforamoresatisfyingm', 'thefoodisgood', 'itwasawesom', 'ijustwantedtoleav', 'wemadethedriveallthewayfromnorthscottsdaleandiwasnotonebitdisappoint', 'iwillnotbeeatingthereagain', 'theownersreallyreallyneedtoquitbeingsoooooocheapletthemwrapmyfreakingsandwichintwopapersnoton', 'icheckedoutthisplaceacoupleyearsagoandwasnotimpress', 'thechickenigotwasdefinitelyreheatedandwasonlyokthewedgeswerecoldandsoggi', 'sorryiwillnotbegettingfoodfromhereanytimesoon', 'anabsolutemustvisit', 'thecowtongueandcheektacosareamaz', 'myfrienddidnotlikehisbloodymari', 'despitehowhardiratebusinessesitsactuallyrareformetogiveastar', 'theyreallywanttomakeyourexperienceagoodon', 'iwillnotreturn', 'ihadthechickenphoandittastedverybland', 'verydisappoint', 'thegrilledchickenwassotenderandyellowfromthesaffronseason', 'adrivethrumeansyoudonotwanttowaitaroundforhalfanhourforyourfoodbutsomehowwhenweendupgoingheretheymakeuswaitandwait', 'prettyawesomeplac', 'ambienceisperfect', 'bestoflucktotherudeandnoncustomerservicefocusednewmanag', 'anygrandmothercanmakearoastedchickenbetterthanthison', 'iaskedmultipletimesforthewinelistandaftersometimeofbeingignorediwenttothehostessandgotonemyself', 'thestaffisalwayssuperfriendlyandhelpfulwhichisespeciallycoolwhenyoubringtwosmallboysandababi', 'fourstarsforthefoodtheguyintheblueshirtforhisgreatvibestilllettingusintoeat', 'theroastbeefsandwichtastedreallygood', 'sameeveninghimandiarebothdrasticallysick', 'highqualitychickenonthechickencaesarsalad', 'orderedburgerrarecameinwelldon', 'wewerepromptlygreetedands', 'triedtogohereforlunchanditwasamadhous', 'iwasprovendeadwrongbythissushibarnotonlybecausethequalityisgreatbuttheserviceisfastandthefoodimpecc', 'afterwaitinganhourandbeingseatediwasnotinthegreatestofmood', 'thisisagoodjoint', 'themacaronshereareinsanelygood', 'imnoteatingher', 'ourwaiterwasveryattentivefriendlyandinform', 'maybeiftheywerentcoldtheywouldhavebeensomewhated', 'thisplacehasalotofpromisebutfailstodeliv', 'verybadexperi', 'whatamistak', 'foodwasaverageatbest', 'greatfood', 'wewontbegoingbackanytimesoon', 'veryverydisappointedorderedthebigbayplat', 'greatplacetorelaxandhaveanawesomeburgerandb', 'itisperfectforasitdownfamilymealorgettogetherwithafewfriend', 'notmuchflavortothemandverypoorlyconstruct', 'thepatioseatingwasverycomfort', 'thefriedricewasdryaswel', 'handsdownmyfavoriteitalianrestaur', 'thatjustscreamslegitinmybooksomethatsalsoprettyrarehereinvega', 'itwasjustnotafunexperi', 'theatmospherewasgreatwithalovelyduoofviolinistsplayingsongswerequest', 'ipersonallylovethehummuspitabaklavafalafelsandbabaganoushitsamazingwhattheydowitheggpl', 'veryconvenientsincewewerestayingatthemgm', 'theownersaresuperfriendlyandthestaffiscourt', 'bothgreat', 'eclecticselect', 'thesweetpotatototsweregoodbuttheonionringswereperfectionorascloseasihavehad', 'thestaffwasveryattent', 'andthechefwasgenerouswithhistimeevencamearoundtwicesowecantakepictureswithhim', 'theownerusedtoworkatnobusothisplaceisreallysimilarforhalfthepric', 'googlemediocreandiimaginesmashburgerwillpopup', 'dontgoher', 'ipromisetheywontdisappoint', 'asasushiloveravoidthisplacebyallmean', 'whatagreatdoublecheeseburg', 'awesomeserviceandfood', 'afantasticneighborhoodgem', 'icantwaittogoback', 'theplantainsweretheworstiveevertast', 'itsagreatplaceandihighlyrecommendit', 'servicewasslowandnotattent', 'igaveitstarsthenandimgivingitstarsnow', 'yourstaffspendsmoretimetalkingtothemselvesthanm', 'dessertpannacottawasamaz', 'verygoodfoodgreatatmospher', 'damngoodsteak', 'totalbrunchfail', 'pricesareveryreasonableflavorsarespotonthesauceishomemadeandtheslawisnotdrenchedinmayo', 'thedecorisniceandthepianomusicsoundtrackispleas', 'thesteakwasamazingrgefilletrellenowasthebestseafoodplateihaveeverhad', 'goodfoodgoodservic', 'itwasabsolutelyamaz', 'iprobablywontbebacktobehonest', 'willdefinitelybeback', 'thesergeantpepperbeefsandwichwithaujusauceisanexcellentsandwichaswel', 'hawaiianbreezemangomagicandpineappledelightarethesmoothiesthativetriedsofarandtheyreallgood', 'wentforlunchservicewasslow', 'wehadsomuchtosayabouttheplacebeforewewalkedinthatheexpectedittobeamazingbutwasquicklydisappoint', 'iwasmortifi', 'needlesstosaywewillneverbebackhereagain', 'anywaysthefoodwasdefinitelynotfillingatallandforthepriceyoupayyoushouldexpectmor', 'thechipsthatcameoutweredrippingwithgreaseandmostlynoted', 'iwasntreallyimpressedwithstripsteak', 'havebeengoingsinceandeverymealhasbeenawesom', 'ourserverwasveryniceandattentiveasweretheotherservingstaff', 'thecashierwasfriendlyandevenbroughtthefoodouttom', 'iworkinthehospitalityindustryinparadisevalleyandhaverefrainedfromrecommendingciboanylong', 'theatmospherehereisfun', 'wouldnotrecommendtooth', 'serviceisquickandeventogoordersarejustlikewelikeit', 'imeanreallyhowdoyougetsofamousforyourfishandchipswhenitssoterr', 'thatsaidourmouthsandbellieswerestillquitepleas', 'notmyth', 'thumbsup', 'ifyouarereadingthispleasedontgother', 'ilovedthegrilledpizzaremindedmeoflegititalianpizza', 'onlyproslargeseatingareanicebarareagreatsimpledrinkmenuthebestbrickovenpizzawithhomemadedough', 'theyhaveareallyniceatmospher', 'tonightihadtheelkfiletspecialanditsuck', 'afteronebiteiwashook', 'weorderedsomeoldclassicsandsomenewdishesaftergoingthereafewtimesandweresorelydisappointedwitheveryth', 'cutequaintsimplehonest', 'thechickenwasdeliciouslyseasonedandhadtheperfectfryontheoutsideandmoistchickenontheinsid', 'thefoodwasgreatasalwayscomplimentstothechef', 'specialthankstodylantfortherecommendationonwhattoorderallyummyformytummi', 'awesomeselectionofb', 'greatfoodandawesomeservic', 'onenicethingwasthattheyaddedgratuityonthebillsinceourpartywaslargerthanorandtheydidntexpectmoretipthanthat', 'aflywasinmyapplejuiceafli', 'thehannanchickenwasalsoverytasti', 'asfortheserviceithoughtitwasgood', 'thefoodwasbarelylukewarmsoitmusthavebeensittingwaitingfortheservertobringitoutt', 'ryansbarisdefinitelyoneedinburghestablishmentiwontberevisit', 'nicestchineserestaurantivebeeninawhil', 'overalliliketherefoodandtheservic', 'theyalsonowserveindiannaanbreadwithhummusandsomespicypinenutsaucethatwasoutofthisworld', 'probablynevercomingbackandwouldntrecommendit', 'friendspastaalsobadhebarelytouchedit', 'trythemintheairporttoexperiencesometastyfoodandspeedyfriendlyservic', 'ilovethedecorwiththechinesecalligraphywallpap', 'neverhadanythingtocomplainabouther', 'therestaurantisverycleanandhasafamilyrestaurantfeeltoit', 'itwaswayoverfri', 'imnotsurehowlongwestoodtherebutitwaslongenoughformetobegintofeelawkwardlyoutofplac', 'wheniopenedthesandwichiwasimpressedbutnotinagoodway', 'willnotbeback', 'therewasawarmfeelingwiththeserviceandifeltliketheirguestforaspecialtreat', 'anextensivemenuprovideslotsofoptionsforbreakfast', 'ialwaysorderfromthevegetarianmenuduringdinnerwhichhasawidearrayofoptionstochoosefrom', 'ihavewatchedtheirpricesinflateportionsgetsmallerandmanagementattitudesgrowrapidli', 'wonderfulliltapasandtheambiencemademefeelallwarmandfuzzyinsid', 'igottoenjoytheseafoodsaladwithafabulousvinegrett', 'thewontonswerethinnotthickandchewyalmostmeltinyourmouth', 'levelspicywasperfectwherespicedidntoverwhelmthesoup', 'weweresatrightontimeandourserverfromthegetgowasfantast', 'mainthingididntenjoyisthatthecrowdisofoldercrowdaroundmidsandup', 'whenimonthissideoftownthiswilldefinitelybeaspotillhitupagain', 'ihadtowaitoverminutestogetmydrinkandlongertogetarepa', 'thisisagreatplacetoeat', 'thejalapenobaconissoooogood', 'theservicewaspoorandthatsbeingnic', 'foodwasgoodservicewasgoodpricesweregood', 'theplacewasnotcleanandthefoodohsostal', 'thechickendishesareokthebeefislikeshoeleath', 'buttheservicewasbeyondbad', 'imsohappytobeher', 'tastedlikedirt', 'oneofthefewplacesinphoenixthatiwoulddefinatelygobacktoagain', 'theblockwasamaz', 'itsclosetomyhouseitslowkeynonfancyaffordablepricesgoodfood', 'boththehotsourtheeggflowersoupswereabsolutelystar', 'mysashimiwaspoorqualitybeingsoggyandtasteless', 'greattimefamilydinneronasundaynight', 'thefoodisnottastyatallnottosayitsrealtraditionalhunanstyl', 'whatdidbothermewastheslowservic', 'theflairbartendersareabsolutelyamaz', 'theirfrozenmargaritasarewaytoosugaryformytast', 'theseweresogoodweorderedthemtwic', 'soinanutshelltherestarauntsmellslikeacombinationofadirtyfishmarketandasew', 'mygirlfriendsvealwasverybad', 'unfortunatelyitwasnotgood', 'ihadaprettysatifyingexperi', 'jointheclubandgetawesomeoffersviaemail', 'perfectforsomeonemewhoonlylikesbeericecoldorinthiscaseevencold', 'blandandflavorlessisagoodwayofdescribingthebarelytepidmeat', 'thechainswhichimnofanofbeatthisplaceeasili', 'thenachosareamusthav', 'wewillnotbecomingback', 'idonthaveverymanywordstosayaboutthisplacebutitdoeseverythingprettywel', 'thestaffissuperniceandveryquickevenwiththecrazycrowdsofthedowntownjurieslawyersandcourtstaff', 'greatatmospherefriendlyandfastservic', 'whenireceivedmypitaitwashugeitdidhavealotofmeatinitsothumbsupther', 'onceyourfoodarrivesitsmeh', 'payingforahotdogandfriesthatlookslikeitcameoutofakidsmealatthewienerschnitzelisnotmyideaofagoodm', 'theclassicmainelobsterrollwasfantast', 'mybrotherinlawwhoworksatthemallateheresamedayandguesswhathewassickallnighttoo', 'sogoodiamgoingtohavetoreviewthisplacetwiceoncehereasatributetotheplaceandonceasatributetoaneventheldherelastnight', 'thechipsandsalsawerereallygoodthesalsawasveryfresh', 'thisplaceisgreat', 'mediocrefood', 'onceyougetinsideyoullbeimpressedwiththeplac', 'imsuperpissd', 'andservicewassuperfriendli', 'whyarethesesadlittlevegetablessoovercook', 'thisplacewassuchanicesurpris', 'theyweregoldencrispyanddelici', 'ihadhighhopesforthisplacesincetheburgersarecookedoveracharcoalgrillbutunfortunatelythetastefellflatwayflat', 'icouldeattheirbruschettaalldayitisdevin', 'notasingleemployeecameouttoseeifwewereokorevenneededawaterrefilloncetheyfinallyservedusourfood', 'lastlythemozzarellastickstheywerethebestthingweord', 'thefirsttimeievercamehereihadanamazingexperienceistilltellpeoplehowawesometheduckwa', 'theserverwasverynegligentofourneedsandmadeusfeelveryunwelcomeiwouldnotsuggestthisplac', 'theservicewasterriblethough', 'thisplaceisoverpricednotconsistentwiththeirbobaanditreallyisoverpr', 'itwaspack', 'ilovethisplac', 'icansaythatthedessertswereyummi', 'thefoodwasterr', 'theseasonalfruitwasfreshwhitepeachpure', 'itkeptgettingworseandworsesonowimofficiallydon', 'thisplaceshouldhonestlybeblownup', 'butidefinitelywouldnoteathereagain', 'donotwasteyourmoneyher', 'ilovethattheyputtheirfoodinniceplasticcontainersasopposedtocrammingitinlittlepapertakeoutbox', 'thecrpewasdelicateandthinandmoist', 'awfulservic', 'wontevergohereagain', 'foodqualityhasbeenhorr', 'forthatpriceicanthinkofafewplaceiwouldhavemuchrathergon', 'theservicehereisfairatbest', 'idolovesushibutifoundkabukitobeoverpricedoverhipandunderservic', 'doyourselfafavorandstayawayfromthisdish', 'verypoorservic', 'nooneatthetablethoughtthefoodwasaboveaverageorworththewaitthatwehadforit', 'bestserviceandfoodevermariaourserverwassogoodandfriendlyshemadeourday', 'theywereexcel', 'ipaidthebillbutdidnottipbecauseifelttheserverdidaterriblejob', 'justhadlunchhereandhadagreatexperi', 'ihaveneverhadsuchblandfoodwhichsurprisedmeconsideringthearticlewereadfocusedsomuchontheirspicesandflavor', 'foodiswayoverpricedandportionsarefuckingsmal', 'irecentlytriedcaballerosandihavebeenbackeveryweeksinc', 'forbucksaheadireallyexpectbetterfood', 'thefoodcameoutatagoodpac', 'iatetheretwiceonmylastvisitandespeciallyenjoyedthesalmonsalad', 'iwontbeback', 'wecouldnotbelievehowdirtytheoysterswer', 'thisplacedeservesnostar', 'iwouldnotrecommendthisplac', 'infactimgoingtorounduptostarsjustbecauseshewassoawesom', 'tomydisbeliefeachdishqualifiedastheworstversionofthesefoodsihaveevertast', 'baddayornotihaveaverylowtoleranceforrudecustomerservicepeopleitisyourjobtobeniceandpolitewashdishesotherwis', 'thepotatoesweregreatandsowasthebiscuit', 'iprobablywouldnotgohereagain', 'soflavorfulandhasjusttheperfectamountofheat', 'thepriceisreasonableandtheserviceisgreat', 'thewifehatedhermealcoconutshrimpandourfriendsreallydidnotenjoytheirmealseith', 'myfellagotthehuevosrancherosandtheydidntlooktooapp', 'wentinforhappyhourgreatlistofwin', 'somemaysaythisbuffetispriceybutithinkyougetwhatyoupayforandthisplaceyouaregettingquitealot', 'iprobablywontbecomingbackher', 'worstfoodserviceivehadinawhil', 'thisplaceisprettygoodnicelittlevibeintherestaur', 'talkaboutgreatcustomerserviceofcoursewewillbeback', 'hotdishesarenothotcolddishesareclosetoroomtempiwatchedstaffpreparefoodwithbarehandsnogloveseverythingisdeepfriedinoil', 'ilovetheirfriesandtheirbean', 'alwaysapleasuredealingwithhim', 'theyhaveaplethoraofsaladsandsandwichesandeverythingivetriedgetsmysealofapprov', 'thisplaceisawesomeifyouwantsomethinglightandhealthyduringthesumm', 'forsushionthestripthisistheplacetogo', 'theservicewasgreateventhemanagercameandhelpedwithourt', 'thefeelofthediningroomwasmorecollegecookingcoursethanhighclassdiningandtheservicewasslowatbest', 'istartedthisreviewwithtwostarsbutimeditingittogiveitonlyon', 'thisistheworstsushiihaveevereatbesidescostco', 'allinallanexcellentrestauranthighlightedbygreatserviceauniquemenuandabeautifulset', 'myboyfriendandisatatthebarandhadacompletelydelightfulexperi', 'weirdvibefromown', 'therewashardlyanymeat', 'ivehadbetterbagelsfromthegrocerystor', 'gotoplaceforgyro', 'ilovetheownerchefhisoneauthenticjapanesecooldud', 'nowtheburgersarentasgoodthepizzawhichusedtobeamazingisdoughyandflavorless', 'ifoundasixinchlongpieceofwireinmysalsa', 'theservicewasterriblefoodwasmediocr', 'wedefinatelyenjoyedourselv', 'iorderedalbondigassoupwhichwasjustwarmandtastedliketomatosoupwithfrozenmeatbal', 'onthreedifferentoccasionsiaskedforwelldoneormediumwellandallthreetimesigotthebloodiestpieceofmeatonmypl', 'ihadabouttwobitesandrefusedtoeatanymor', 'theservicewasextremelyslow', 'afterminuteswaitigotat', 'seriouslykillerhotchailatt', 'noallergywarningsonthemenuandthewaitresshadabsolutelynoclueastowhichmealsdidordidnotcontainpeanut', 'myboyfriendtriedthemediterraneanchickensaladandfellinlov', 'theirrotatingbeersontapisalsoahighlightofthisplac', 'pricingisabitofaconcernatmellowmushroom', 'worstthaiev', 'ifyoustayinvegasyoumustgetbreakfasthereatleastonc', 'iwanttofirstsayourserverwasgreatandwehadperfectservic', 'thepizzaselectionsaregood', 'ihadstrawberryteawhichwasgood', 'highlyunprofessionalandrudetoaloyalpatron', 'overallagreatexperi', 'spendyourmoneyelsewher', 'theirregulartoastedbreadwasequallysatisfyingwiththeoccasionalpatsofbuttermmmm', 'thebuffetatbellagiowasfarfromwhatianticip', 'andthedrinksareweakpeopl', 'myorderwasnotcorrect', 'alsoifeellikethechipsareboughtnotmadeinhous', 'afterthedisappointingdinnerwewentelsewherefordessert', 'thechipsandsalsahereisamaz', 'wewontbereturn', 'thisismynewfavvegasbuffetspot', 'iseriouslycannotbelievethattheownerhassomanyunexperiencedemployeesthatallarerunningaroundlikechickenswiththeirheadscutoff', 'veryverysad', 'ifeltinsultedanddisrespectedhowcouldyoutalkandjudgeanotherhumanbeinglikethat', 'howcanyoucallyourselfasteakhouseifyoucantproperlycookasteakidontunderstand', 'imnotimpressedwiththeconceptorthefood', 'theonlythingiwasnttoocrazyaboutwastheirguacamoleasidontlikeitpur', 'thereisreallynothingformeatpostinoshopeyourexperienceisbett', 'igotfoodpoisoninghereatthebuffet', 'theybroughtafreshbatchoffriesandiwasthinkingyaysomethingwarmbutno', 'whatshouldhavebeenahilariousyummychristmasevedinnertorememberwasthebiggestfailoftheentiretripforu', 'needlesstosayiwontbegoingbackanytimesoon', 'thisplaceisdisgust', 'everytimeieathereiseecaringteamworktoaprofessionaldegre', 'theristylecalamariwasajok', 'howevertherewassomuchgarlicinthefondueitwasbarelyed', 'icouldbarelystomachthemealbutdidntcomplainbecauseitwasabusinesslunch', 'itwassobadihadlostthehearttofinishit', 'italsotookherforevertobringusthecheckwhenweaskedforit', 'wearentonestomakeasceneatrestaurantsbutijustdontgetitdefinitelylosttheloveafterthison', 'disappointingexperi', 'thefoodisaboutonparwithdennyswhichistosaynotgoodatal', 'ifyouwanttowaitformediocrefoodanddownrightterribleservicethenthisistheplacefory', 'waaaaaayyyyyyyyyyoverratedisalliamsay', 'wewontbegoingback', 'theplacewasfairlycleanbutthefoodsimplywasntworthit', 'thisplacelackedstyl', 'thesangriawasabouthalfofaglasswinefullandwasridicul', 'dontbothercomingher', 'themeatwasprettydryihadtheslicedbrisketandpulledpork', 'thebuildingitselfseemsprettyneatthebathroomisprettytrippybutiwouldnteathereagain', 'itwasequallyaw', 'probablynotinahurrytogoback', 'veryslowatseatingevenwithreserv', 'notgoodbyanystretchoftheimagin', 'thecashewcreamsaucewasblandandthevegetableswereundercook', 'thechipolteranchdippingsausewastastelessseemedthinandwatereddownwithnoheat', 'itwasabittoosweetnotreallyspicyenoughandlackedflavor', 'iwasverydisappoint', 'thisplaceishorribleandwayoverpr', 'maybeitsjusttheirvegetarianfarebutivebeentwiceandithoughtitwasaverageatbest', 'itwasntbusyatallandnowweknowwhi', 'thetablesoutsidearealsodirtyalotofthetimeandtheworkersarenotalwaysfriendlyandhelpfulwiththemenu', 'theambianceheredidnotfeellikeabuffetsettingbutmoreofadoucheyindoorgardenforteaandbiscuit', 'conspottyservic', 'thefrieswerenothotandneitherwasmyburg', 'butthentheycamebackcold', 'thenourfoodcameoutdisappointmentensu', 'therealdisappointmentwasourwait', 'myhusbandsaidshewasveryrudedidnotevenapologizeforthebadfoodoranyth', 'theonlyreasontoeatherewouldbetofillupbeforeanightofbingedrinkingjusttogetsomecarbsinyourstomach', 'insultsprofounddeuchebaggeryandhadtogooutsideforasmokebreakwhileservingjusttosolidifyit', 'ifsomeoneorderstwotacosdontyouthinkitmaybepartofcustomerservicetoaskifitiscombooralacart', 'shewasquitedisappointedalthoughsomeblameneedstobeplacedatherdoor', 'afteralltheravereviewsicouldntwaittoeatherewhatadisappoint', 'deltacoisprettynastyandshouldbeavoidedifposs', 'itsnothardtomakeadecenthamburg', 'butidontlikeit', 'hellnowilligoback', 'wevehavegottenamuchbetterservicefromthepizzaplacenextdoorthantheserviceswereceivedfromthisrestaur', 'idontknowwhatthebigdealisaboutthisplacebutiwontbebackyaal', 'iimmediatelysaidiwantedtotalktothemanagerbutididnotwanttotalktotheguywhowasdoingshotsoffireballbehindthebar', 'theambianceisntmuchbett', 'unfortunatelyitonlysetusupfordisapppointmentwithourentre', 'thefoodwasntgood', 'yourserverssuckwaitcorrectionourserverheimersuck', 'whathappenednextwasprettyoffput', 'toobadcauseiknowitsfamilyownedireallywantedtolikethisplac', 'overpricedforwhatyouareget', 'ivomitedinthebathroommidlunch', 'ikeptlookingatthetimeandithadsoonbecomeminutesyetstillnofood', 'ihavebeentoveryfewplacestoeatthatundernocircumstanceswouldieverreturntoandthistopsthelist', 'westartedwiththetunasashimiwhichwasbrownishincolorandobviouslywasntfresh', 'foodwasbelowaverag', 'itsuredoesbeatthenachosatthemoviesbutiwouldexpectalittlebitmorecomingfromarestaur', 'allinallhalongbaywasabitofaflop', 'theproblemihaveisthattheychargeforasandwichthatisnobiggerthanasubwaysubwhichoffersbetterandmoreamountofveget', 'shrimpwheniunwrappeditiliveonlyamilefrombrushfireitwasliterallyicecold', 'itlackedflavorseemedundercookedanddri', 'itreallyisimpressivethattheplacehasntcloseddown', 'iwouldavoidthisplaceifyouarestayinginthemirag', 'therefriedbeansthatcamewithmymealweredriedoutandcrustyandthefoodwasbland', 'spendyourmoneyandtimesomeplaceels', 'aladyatthetablenexttousfoundalivegreencaterpillarinhersalad', 'thepresentationofthefoodwasaw', 'icanttellyouhowdisappointediwa', 'ithinkfoodshouldhaveflavorandtextureandbothwerelack', 'appetiteinstantlygon', 'overalliwasnotimpressedandwouldnotgoback', 'thewholeexperiencewasunderwhelmingandithinkwelljustgotoninjasushinexttim', 'thenasifihadntwastedenoughofmylifetheretheypouredsaltinthewoundbydrawingoutthetimeittooktobringthecheck']\n"
     ]
    }
   ],
   "source": [
    "print(corpus)"
   ]
  },
  {
   "cell_type": "code",
   "execution_count": 38,
   "id": "64cf2161",
   "metadata": {},
   "outputs": [
    {
     "data": {
      "text/plain": [
       "1000"
      ]
     },
     "execution_count": 38,
     "metadata": {},
     "output_type": "execute_result"
    }
   ],
   "source": [
    "len(corpus)"
   ]
  },
  {
   "cell_type": "code",
   "execution_count": null,
   "id": "83796a0a",
   "metadata": {},
   "outputs": [],
   "source": []
  }
 ],
 "metadata": {
  "kernelspec": {
   "display_name": "Python 3 (ipykernel)",
   "language": "python",
   "name": "python3"
  },
  "language_info": {
   "codemirror_mode": {
    "name": "ipython",
    "version": 3
   },
   "file_extension": ".py",
   "mimetype": "text/x-python",
   "name": "python",
   "nbconvert_exporter": "python",
   "pygments_lexer": "ipython3",
   "version": "3.9.13"
  }
 },
 "nbformat": 4,
 "nbformat_minor": 5
}
